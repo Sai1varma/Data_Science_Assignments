{
 "cells": [
  {
   "cell_type": "markdown",
   "id": "14dc101c",
   "metadata": {},
   "source": [
    "# <pre>                     Assignment 1 </pre>"
   ]
  },
  {
   "cell_type": "markdown",
   "id": "034ebfdf",
   "metadata": {},
   "source": [
    "## Question 1:\n",
    "**In the below elements which of them are values or expressions? eg:- values can be integer or string and expression will be mathematical operators. <br>( * , 'hello' , -87.8 , - , / , + , 6 )**"
   ]
  },
  {
   "cell_type": "markdown",
   "id": "0dd3ceb3",
   "metadata": {},
   "source": [
    "\\* typically, consider as **Mulitplication Operator**.<br>\n",
    "**'hello'** is a **string value** as it is surrounded in single quotes.<br>\n",
    "**-87.8** is a **floating-point value** as it contains a decimal point and number after it.<br>\n",
    "**\\-** is the **subtraction operator**.<br>\n",
    "**/** is the **division operator**.<br>\n",
    "**\\+** is the **addition operator** in case of numeric operands or act as a **concatination operator** for string operands.<br>\n",
    "**6** is simply an **integer value**."
   ]
  },
  {
   "cell_type": "markdown",
   "id": "ec8b5126",
   "metadata": {},
   "source": [
    "## Question 2:\n",
    "**What is the difference between string and variable?**"
   ]
  },
  {
   "cell_type": "markdown",
   "id": "6c3362c2",
   "metadata": {},
   "source": [
    "A **string** is a data type that represents a sequence of characters. These characters can be of alphanumeric in nature or symbols or spaces that are surrounded by double or single quotation marks. In fact, in python a string is an instance of class <code>str</code> and have built in methods.<br>\n",
    "**Examples:** \"Hello\", \"134\", \"B4U\", \"@!#$$\". <br><br>\n",
    "A **variable** is a container that can store different values like strings, numbers, functions or other data types. The main use of variables is to store a piece of data or to manipulate it later in the program. The variable name should only contains alphanumeric characters and an underscore and it should not start with a number and they can't be python keywords.<br>\n",
    "**Examples:** a = 5, name = \"Ram\", count = 0\n"
   ]
  },
  {
   "cell_type": "markdown",
   "id": "c91389e0",
   "metadata": {},
   "source": [
    "## Question 3:\n",
    "**Describe three different data types.**"
   ]
  },
  {
   "cell_type": "markdown",
   "id": "0da1e00a",
   "metadata": {},
   "source": [
    "**Numeric Type:** The numeric data type typically contains both integers and decimal numbers.<br>\n",
    "   The <code>int</code> data type represents the integer values.**Ex:** 23, -32, 59.<br>\n",
    "   The <code>float</code> data type represents the decimal or floating-point values.**Ex:** 1.4, 99.3, -0.324.<br><br>\n",
    "\n",
    "**String Type:** The <code>str</code> data type represents a sequence of characters.**Ex:** \"hello\", \"mark 1\", \"Butterfly\"<br><br>\n",
    "**Boolean Type:** The <code>bool</code> data type is mostly used in logical expressions and it has only two values: <code>True</code> and <code>False</code>. Notice the uppercasing in the first letters of the words.<br>\n",
    "\n",
    "A part from the above mentioned data types, there are many data types that python provides that are very much useful in many application. Some of them are lists, dictionaries and sets. You can also build custom or user defined data types."
   ]
  },
  {
   "cell_type": "markdown",
   "id": "a84f04d6",
   "metadata": {},
   "source": [
    "## Question 4:\n",
    "**What is an expression made up of? What do all expressions do?**"
   ]
  },
  {
   "cell_type": "markdown",
   "id": "a0bab2d2",
   "metadata": {},
   "source": [
    "An **expression** can be a single value or combination of values along with operators, variables and function calls. These expressions typically evaluates to a single value by python.<br>\n",
    "**Examples:** x + 3,  len(\"lecture\"),  54/9."
   ]
  },
  {
   "cell_type": "markdown",
   "id": "4c8ebfb0",
   "metadata": {},
   "source": [
    "## Question 5:\n",
    "**This assignment statements, like spam = 10. What is the difference between an expression and a statement?**"
   ]
  },
  {
   "cell_type": "markdown",
   "id": "3776222c",
   "metadata": {},
   "source": [
    "A **statement** is a command or an action. It can be executed by the python interpreter and it ends with a newline character or a semi-colon in some programming languages.<br>\n",
    "The statement <code>spam = 10</code> is an assignment operator than assigns the value of **10** to the variable **spam**. <br>\n",
    "The key difference between a statement and an expression is that an expression evaluates to or produces some value. But a statement performs an action or command."
   ]
  },
  {
   "cell_type": "markdown",
   "id": "44870c54",
   "metadata": {},
   "source": [
    "## Question 6:\n",
    "**After running the following code, what does the variable bacon contain?<br>bacon = 22 <br> bacon + 1**"
   ]
  },
  {
   "cell_type": "markdown",
   "id": "fc9be0a4",
   "metadata": {},
   "source": [
    "After running the code, the variable ***bacon*** still contains the value ***22***. Because the expression ***bacon + 1*** is not assigned into the variable bacon again."
   ]
  },
  {
   "cell_type": "code",
   "execution_count": 19,
   "id": "f21e1f18",
   "metadata": {},
   "outputs": [
    {
     "name": "stdout",
     "output_type": "stream",
     "text": [
      "22\n"
     ]
    }
   ],
   "source": [
    "bacon = 22\n",
    "bacon + 1\n",
    "print(bacon)"
   ]
  },
  {
   "cell_type": "markdown",
   "id": "23d98fdc",
   "metadata": {},
   "source": [
    "## Question 7:\n",
    "**What should the values of the following two terms be?<br>'spam' + 'spamspam'<br> 'spam' \\* 3**"
   ]
  },
  {
   "cell_type": "markdown",
   "id": "60fda751",
   "metadata": {},
   "source": [
    "Both expressions results to the same value. These two expressions demostrate the concept of ***operator overloading***.<br>\n",
    "***'spam' + 'spamspam'***  gives  **'spamspamspam'**<br>\n",
    "***'spam' \\* 3***  similarly gives  **'spamspamspam'**"
   ]
  },
  {
   "cell_type": "markdown",
   "id": "3b8c721e",
   "metadata": {},
   "source": [
    "## Question 8:\n",
    "**Why is eggs a valid variable name while 100 is invalid?**"
   ]
  },
  {
   "cell_type": "markdown",
   "id": "07ae0dea",
   "metadata": {},
   "source": [
    "Because the variable ***eggs*** doesn't contain special characters or start with a number. But the variable ***100*** starts with a number which results in a syntactical error."
   ]
  },
  {
   "cell_type": "markdown",
   "id": "c903ef9a",
   "metadata": {},
   "source": [
    "## Question 9:\n",
    "**What three functions are used to get the integer, floating-point number, or string version of a value?**"
   ]
  },
  {
   "cell_type": "markdown",
   "id": "b4de325c",
   "metadata": {},
   "source": [
    "The three functions that we can use to get integer, floating-point number, and string values are **int(), float(), and str()** respectively. Let's see them individually:<br><br>\n",
    "**int():** This function returns an integer value if the input argument is a numeric type, string representing integers, or floating-point number(truncates the decimal part)."
   ]
  },
  {
   "cell_type": "code",
   "execution_count": 2,
   "id": "3edd8056",
   "metadata": {},
   "outputs": [
    {
     "name": "stdout",
     "output_type": "stream",
     "text": [
      "1\n"
     ]
    }
   ],
   "source": [
    "float_num = 1.2\n",
    "\n",
    "resulted_integer_num = int(float_num)\n",
    "print(resulted_integer_num)"
   ]
  },
  {
   "cell_type": "code",
   "execution_count": 3,
   "id": "f4834663",
   "metadata": {},
   "outputs": [
    {
     "name": "stdout",
     "output_type": "stream",
     "text": [
      "123\n"
     ]
    }
   ],
   "source": [
    "string_num = \"123\"\n",
    "\n",
    "resulted_integer_value = int(string_num)\n",
    "print(resulted_integer_value)"
   ]
  },
  {
   "cell_type": "markdown",
   "id": "7749251e",
   "metadata": {},
   "source": [
    "**float():** This function returns a floating-point value if you inputs either a numeric type or string representing numbers."
   ]
  },
  {
   "cell_type": "code",
   "execution_count": 4,
   "id": "76a2270f",
   "metadata": {},
   "outputs": [
    {
     "name": "stdout",
     "output_type": "stream",
     "text": [
      "25.0\n"
     ]
    }
   ],
   "source": [
    "integer_num = 25\n",
    "\n",
    "resulted_float_num = float(integer_num)\n",
    "print(resulted_float_num)"
   ]
  },
  {
   "cell_type": "code",
   "execution_count": 5,
   "id": "e305b27a",
   "metadata": {},
   "outputs": [
    {
     "name": "stdout",
     "output_type": "stream",
     "text": [
      "12.55\n"
     ]
    }
   ],
   "source": [
    "str_num = \"12.55\"\n",
    "\n",
    "resulted_float_value = float(str_num)\n",
    "print(resulted_float_value)"
   ]
  },
  {
   "cell_type": "markdown",
   "id": "ea18bd7c",
   "metadata": {},
   "source": [
    "**str():** This function takes multiple types of inputs and returns a string."
   ]
  },
  {
   "cell_type": "code",
   "execution_count": 6,
   "id": "c99e7888",
   "metadata": {},
   "outputs": [
    {
     "name": "stdout",
     "output_type": "stream",
     "text": [
      "123\n"
     ]
    }
   ],
   "source": [
    "value = 123\n",
    "\n",
    "resulted_str = str(value)\n",
    "print(resulted_str)"
   ]
  },
  {
   "cell_type": "markdown",
   "id": "e2417589",
   "metadata": {},
   "source": [
    "## Question 10:\n",
    "**Why does this expression cause an error? How can you fix it?<br>'I have eaten ' + 99 + ' burritos'**"
   ]
  },
  {
   "cell_type": "markdown",
   "id": "1bd0b450",
   "metadata": {},
   "source": [
    "The above expression tries to concatinate a string value with an integer value which is not allowed in python. This throws a *TypeError*.\n",
    "This also shows that python is a *strongly typed language*.<br><br>\n",
    "You can solve this error in couple of ways:\n",
    "\n",
    "***Explicit type casting*** as discussed in the previous question:"
   ]
  },
  {
   "cell_type": "code",
   "execution_count": 7,
   "id": "fdeea290",
   "metadata": {
    "scrolled": true
   },
   "outputs": [
    {
     "name": "stdout",
     "output_type": "stream",
     "text": [
      "I have eaten 99 burritos\n"
     ]
    }
   ],
   "source": [
    "print('I have eaten ' + str(99) + ' burritos')"
   ]
  },
  {
   "cell_type": "markdown",
   "id": "eb428bbd",
   "metadata": {},
   "source": [
    "or"
   ]
  },
  {
   "cell_type": "markdown",
   "id": "339f0612",
   "metadata": {},
   "source": [
    "By surrounding the integer value with **single or double quotes** and making it a string."
   ]
  },
  {
   "cell_type": "code",
   "execution_count": 8,
   "id": "d755ef22",
   "metadata": {},
   "outputs": [
    {
     "name": "stdout",
     "output_type": "stream",
     "text": [
      "I have eaten 99 burritos\n"
     ]
    }
   ],
   "source": [
    "print('I have eaten ' + '99' + ' burritos')"
   ]
  }
 ],
 "metadata": {
  "kernelspec": {
   "display_name": "Python 3 (ipykernel)",
   "language": "python",
   "name": "python3"
  },
  "language_info": {
   "codemirror_mode": {
    "name": "ipython",
    "version": 3
   },
   "file_extension": ".py",
   "mimetype": "text/x-python",
   "name": "python",
   "nbconvert_exporter": "python",
   "pygments_lexer": "ipython3",
   "version": "3.11.4"
  }
 },
 "nbformat": 4,
 "nbformat_minor": 5
}
